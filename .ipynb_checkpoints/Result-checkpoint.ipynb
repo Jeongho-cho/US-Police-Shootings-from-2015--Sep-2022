{
 "cells": [
  {
   "cell_type": "markdown",
   "id": "4a1a6316",
   "metadata": {},
   "source": [
    "## Data : US Police Shootings from 2015- Sep 2022\n",
    " * 미국에서 2015년부터 2022년까지 경찰 총격 사건 데이터\n",
    " * Data From : https://www.kaggle.com/datasets/ramjasmaurya/us-police-shootings-from-20152022"
   ]
  },
  {
   "cell_type": "markdown",
   "id": "44f470e4",
   "metadata": {},
   "source": [
    "### 1. 데이터 불러오기"
   ]
  },
  {
   "cell_type": "markdown",
   "id": "f70e5e22",
   "metadata": {},
   "source": [
    "* 기본 패키지 불러오기"
   ]
  },
  {
   "cell_type": "code",
   "execution_count": 1,
   "id": "7c3f78db",
   "metadata": {},
   "outputs": [],
   "source": [
    "import pandas as pd\n",
    "import numpy as np\n",
    "import seaborn as sns\n",
    "import matplotlib.pyplot as plt\n",
    "import warnings\n",
    "import warnings\n",
    "warnings.filterwarnings('ignore')"
   ]
  },
  {
   "cell_type": "markdown",
   "id": "177b8034",
   "metadata": {},
   "source": [
    "* CSV 파일 불러오기"
   ]
  },
  {
   "cell_type": "code",
   "execution_count": 2,
   "id": "e3e64d6b",
   "metadata": {},
   "outputs": [],
   "source": [
    "df = pd.read_csv('./US Police shootings in from 2015-22.csv')"
   ]
  },
  {
   "cell_type": "markdown",
   "id": "e3834c8c",
   "metadata": {},
   "source": [
    "* 데이터 살펴보기"
   ]
  },
  {
   "cell_type": "code",
   "execution_count": 3,
   "id": "31ab7360",
   "metadata": {},
   "outputs": [
    {
     "data": {
      "text/html": [
       "<div>\n",
       "<style scoped>\n",
       "    .dataframe tbody tr th:only-of-type {\n",
       "        vertical-align: middle;\n",
       "    }\n",
       "\n",
       "    .dataframe tbody tr th {\n",
       "        vertical-align: top;\n",
       "    }\n",
       "\n",
       "    .dataframe thead th {\n",
       "        text-align: right;\n",
       "    }\n",
       "</style>\n",
       "<table border=\"1\" class=\"dataframe\">\n",
       "  <thead>\n",
       "    <tr style=\"text-align: right;\">\n",
       "      <th></th>\n",
       "      <th>id</th>\n",
       "      <th>name</th>\n",
       "      <th>date</th>\n",
       "      <th>manner_of_death</th>\n",
       "      <th>armed</th>\n",
       "      <th>age</th>\n",
       "      <th>gender</th>\n",
       "      <th>race</th>\n",
       "      <th>city</th>\n",
       "      <th>state</th>\n",
       "      <th>signs_of_mental_illness</th>\n",
       "      <th>threat_level</th>\n",
       "      <th>flee</th>\n",
       "      <th>body_camera</th>\n",
       "      <th>longitude</th>\n",
       "      <th>latitude</th>\n",
       "      <th>is_geocoding_exact</th>\n",
       "    </tr>\n",
       "  </thead>\n",
       "  <tbody>\n",
       "    <tr>\n",
       "      <th>0</th>\n",
       "      <td>1</td>\n",
       "      <td>Tim Elliot</td>\n",
       "      <td>2015-01-02</td>\n",
       "      <td>shot</td>\n",
       "      <td>gun</td>\n",
       "      <td>53.0</td>\n",
       "      <td>M</td>\n",
       "      <td>A</td>\n",
       "      <td>Shelton</td>\n",
       "      <td>WA</td>\n",
       "      <td>True</td>\n",
       "      <td>attack</td>\n",
       "      <td>Not fleeing</td>\n",
       "      <td>False</td>\n",
       "      <td>-123.122</td>\n",
       "      <td>47.247</td>\n",
       "      <td>True</td>\n",
       "    </tr>\n",
       "    <tr>\n",
       "      <th>1</th>\n",
       "      <td>2</td>\n",
       "      <td>Lewis Lee Lembke</td>\n",
       "      <td>2015-01-02</td>\n",
       "      <td>shot</td>\n",
       "      <td>gun</td>\n",
       "      <td>47.0</td>\n",
       "      <td>M</td>\n",
       "      <td>W</td>\n",
       "      <td>Aloha</td>\n",
       "      <td>OR</td>\n",
       "      <td>False</td>\n",
       "      <td>attack</td>\n",
       "      <td>Not fleeing</td>\n",
       "      <td>False</td>\n",
       "      <td>-122.892</td>\n",
       "      <td>45.487</td>\n",
       "      <td>True</td>\n",
       "    </tr>\n",
       "    <tr>\n",
       "      <th>2</th>\n",
       "      <td>3</td>\n",
       "      <td>John Paul Quintero</td>\n",
       "      <td>2015-01-03</td>\n",
       "      <td>shot and Tasered</td>\n",
       "      <td>unarmed</td>\n",
       "      <td>23.0</td>\n",
       "      <td>M</td>\n",
       "      <td>H</td>\n",
       "      <td>Wichita</td>\n",
       "      <td>KS</td>\n",
       "      <td>False</td>\n",
       "      <td>other</td>\n",
       "      <td>Not fleeing</td>\n",
       "      <td>False</td>\n",
       "      <td>-97.281</td>\n",
       "      <td>37.695</td>\n",
       "      <td>True</td>\n",
       "    </tr>\n",
       "    <tr>\n",
       "      <th>3</th>\n",
       "      <td>4</td>\n",
       "      <td>Matthew Hoffman</td>\n",
       "      <td>2015-01-04</td>\n",
       "      <td>shot</td>\n",
       "      <td>toy weapon</td>\n",
       "      <td>32.0</td>\n",
       "      <td>M</td>\n",
       "      <td>W</td>\n",
       "      <td>San Francisco</td>\n",
       "      <td>CA</td>\n",
       "      <td>True</td>\n",
       "      <td>attack</td>\n",
       "      <td>Not fleeing</td>\n",
       "      <td>False</td>\n",
       "      <td>-122.422</td>\n",
       "      <td>37.763</td>\n",
       "      <td>True</td>\n",
       "    </tr>\n",
       "    <tr>\n",
       "      <th>4</th>\n",
       "      <td>5</td>\n",
       "      <td>Michael Rodriguez</td>\n",
       "      <td>2015-01-04</td>\n",
       "      <td>shot</td>\n",
       "      <td>nail gun</td>\n",
       "      <td>39.0</td>\n",
       "      <td>M</td>\n",
       "      <td>H</td>\n",
       "      <td>Evans</td>\n",
       "      <td>CO</td>\n",
       "      <td>False</td>\n",
       "      <td>attack</td>\n",
       "      <td>Not fleeing</td>\n",
       "      <td>False</td>\n",
       "      <td>-104.692</td>\n",
       "      <td>40.384</td>\n",
       "      <td>True</td>\n",
       "    </tr>\n",
       "  </tbody>\n",
       "</table>\n",
       "</div>"
      ],
      "text/plain": [
       "   id                name        date   manner_of_death       armed   age  \\\n",
       "0   1          Tim Elliot  2015-01-02              shot         gun  53.0   \n",
       "1   2    Lewis Lee Lembke  2015-01-02              shot         gun  47.0   \n",
       "2   3  John Paul Quintero  2015-01-03  shot and Tasered     unarmed  23.0   \n",
       "3   4     Matthew Hoffman  2015-01-04              shot  toy weapon  32.0   \n",
       "4   5   Michael Rodriguez  2015-01-04              shot    nail gun  39.0   \n",
       "\n",
       "  gender race           city state  signs_of_mental_illness threat_level  \\\n",
       "0      M    A        Shelton    WA                     True       attack   \n",
       "1      M    W          Aloha    OR                    False       attack   \n",
       "2      M    H        Wichita    KS                    False        other   \n",
       "3      M    W  San Francisco    CA                     True       attack   \n",
       "4      M    H          Evans    CO                    False       attack   \n",
       "\n",
       "          flee  body_camera  longitude  latitude  is_geocoding_exact  \n",
       "0  Not fleeing        False   -123.122    47.247                True  \n",
       "1  Not fleeing        False   -122.892    45.487                True  \n",
       "2  Not fleeing        False    -97.281    37.695                True  \n",
       "3  Not fleeing        False   -122.422    37.763                True  \n",
       "4  Not fleeing        False   -104.692    40.384                True  "
      ]
     },
     "execution_count": 3,
     "metadata": {},
     "output_type": "execute_result"
    }
   ],
   "source": [
    "df.head()"
   ]
  },
  {
   "cell_type": "markdown",
   "id": "d0b67e50",
   "metadata": {},
   "source": [
    "<칼럼 설명>\n",
    "* id : 고유번호\n",
    "* name : 총격 피해자 이름\n",
    "* date : 날짜\n",
    "* manner_of_death : 사망방식 유형\n",
    "* armed : 무장여부\n",
    "* age : 나이\n",
    "* gender : 성별\n",
    "* race : 인종\n",
    "* city : 도시\n",
    "* state : 주\n",
    "* signs_of_mental_illness : 정신질환 여부\n",
    "* threat_level : 위협수준\n",
    "* flee : 도주여부\n",
    "* body_camera : 바디캠 착용 여부\n",
    "* longitude : 경도\n",
    "* latitude : 위도\n",
    "* is_geocoding_exact : 정확한 위치 여부"
   ]
  },
  {
   "cell_type": "markdown",
   "id": "d770c38a",
   "metadata": {},
   "source": [
    "### 2. 데이터 전처리"
   ]
  },
  {
   "cell_type": "markdown",
   "id": "cb17a325",
   "metadata": {},
   "source": [
    "* 컬럼별 결측치 확인"
   ]
  },
  {
   "cell_type": "code",
   "execution_count": 4,
   "id": "9f75cd3e",
   "metadata": {},
   "outputs": [
    {
     "data": {
      "text/plain": [
       "id                            0\n",
       "name                        417\n",
       "date                          0\n",
       "manner_of_death               0\n",
       "armed                       209\n",
       "age                         482\n",
       "gender                       20\n",
       "race                       1460\n",
       "city                          0\n",
       "state                         0\n",
       "signs_of_mental_illness       0\n",
       "threat_level                  0\n",
       "flee                        875\n",
       "body_camera                   0\n",
       "longitude                   837\n",
       "latitude                    837\n",
       "is_geocoding_exact            0\n",
       "dtype: int64"
      ]
     },
     "execution_count": 4,
     "metadata": {},
     "output_type": "execute_result"
    }
   ],
   "source": [
    "df.isnull().sum()"
   ]
  },
  {
   "cell_type": "markdown",
   "id": "338550b8",
   "metadata": {},
   "source": [
    "결측치를 제거할 이유가 없음으로 지금은 그대로 유지한다."
   ]
  },
  {
   "cell_type": "markdown",
   "id": "9ab25f7e",
   "metadata": {},
   "source": [
    "* 연령을 구간별로 나눈다."
   ]
  },
  {
   "cell_type": "code",
   "execution_count": 5,
   "id": "42f150dd",
   "metadata": {},
   "outputs": [
    {
     "data": {
      "text/html": [
       "<div>\n",
       "<style scoped>\n",
       "    .dataframe tbody tr th:only-of-type {\n",
       "        vertical-align: middle;\n",
       "    }\n",
       "\n",
       "    .dataframe tbody tr th {\n",
       "        vertical-align: top;\n",
       "    }\n",
       "\n",
       "    .dataframe thead th {\n",
       "        text-align: right;\n",
       "    }\n",
       "</style>\n",
       "<table border=\"1\" class=\"dataframe\">\n",
       "  <thead>\n",
       "    <tr style=\"text-align: right;\">\n",
       "      <th></th>\n",
       "      <th>age_bin</th>\n",
       "    </tr>\n",
       "  </thead>\n",
       "  <tbody>\n",
       "    <tr>\n",
       "      <th>0</th>\n",
       "      <td>50-59</td>\n",
       "    </tr>\n",
       "    <tr>\n",
       "      <th>1</th>\n",
       "      <td>40-49</td>\n",
       "    </tr>\n",
       "    <tr>\n",
       "      <th>2</th>\n",
       "      <td>20-29</td>\n",
       "    </tr>\n",
       "    <tr>\n",
       "      <th>3</th>\n",
       "      <td>30-39</td>\n",
       "    </tr>\n",
       "    <tr>\n",
       "      <th>4</th>\n",
       "      <td>30-39</td>\n",
       "    </tr>\n",
       "  </tbody>\n",
       "</table>\n",
       "</div>"
      ],
      "text/plain": [
       "  age_bin\n",
       "0   50-59\n",
       "1   40-49\n",
       "2   20-29\n",
       "3   30-39\n",
       "4   30-39"
      ]
     },
     "execution_count": 5,
     "metadata": {},
     "output_type": "execute_result"
    }
   ],
   "source": [
    "df['age_bin'] = pd.cut(df['age'],bins = [0,19,29,39,49,59,69,100],labels =['0-19','20-29','30-39','40-49','50-59','60-69','70+'] )\n",
    "df[['age_bin']].head()"
   ]
  },
  {
   "cell_type": "markdown",
   "id": "f8a0cd73",
   "metadata": {},
   "source": [
    "### 3. EDA"
   ]
  },
  {
   "cell_type": "markdown",
   "id": "8081af8a",
   "metadata": {},
   "source": [
    "#### 3-1 Age"
   ]
  },
  {
   "cell_type": "code",
   "execution_count": 6,
   "id": "8920536f",
   "metadata": {},
   "outputs": [
    {
     "data": {
      "text/html": [
       "<div>\n",
       "<style scoped>\n",
       "    .dataframe tbody tr th:only-of-type {\n",
       "        vertical-align: middle;\n",
       "    }\n",
       "\n",
       "    .dataframe tbody tr th {\n",
       "        vertical-align: top;\n",
       "    }\n",
       "\n",
       "    .dataframe thead th {\n",
       "        text-align: right;\n",
       "    }\n",
       "</style>\n",
       "<table border=\"1\" class=\"dataframe\">\n",
       "  <thead>\n",
       "    <tr style=\"text-align: right;\">\n",
       "      <th></th>\n",
       "      <th>index</th>\n",
       "      <th>counts</th>\n",
       "    </tr>\n",
       "  </thead>\n",
       "  <tbody>\n",
       "    <tr>\n",
       "      <th>0</th>\n",
       "      <td>30-39</td>\n",
       "      <td>2272</td>\n",
       "    </tr>\n",
       "    <tr>\n",
       "      <th>1</th>\n",
       "      <td>20-29</td>\n",
       "      <td>1946</td>\n",
       "    </tr>\n",
       "    <tr>\n",
       "      <th>2</th>\n",
       "      <td>40-49</td>\n",
       "      <td>1369</td>\n",
       "    </tr>\n",
       "    <tr>\n",
       "      <th>3</th>\n",
       "      <td>50-59</td>\n",
       "      <td>839</td>\n",
       "    </tr>\n",
       "    <tr>\n",
       "      <th>4</th>\n",
       "      <td>0-19</td>\n",
       "      <td>361</td>\n",
       "    </tr>\n",
       "  </tbody>\n",
       "</table>\n",
       "</div>"
      ],
      "text/plain": [
       "   index  counts\n",
       "0  30-39    2272\n",
       "1  20-29    1946\n",
       "2  40-49    1369\n",
       "3  50-59     839\n",
       "4   0-19     361"
      ]
     },
     "execution_count": 6,
     "metadata": {},
     "output_type": "execute_result"
    }
   ],
   "source": [
    "df_age_bin = df['age_bin'].value_counts().reset_index(name = 'counts')\n",
    "df_age_bin.head()"
   ]
  },
  {
   "cell_type": "code",
   "execution_count": 132,
   "id": "4a8ab216",
   "metadata": {},
   "outputs": [
    {
     "data": {
      "image/png": "[encoded data removed]",
      "text/plain": [
       "<Figure size 864x576 with 1 Axes>"
      ]
     },
     "metadata": {
      "needs_background": "light"
     },
     "output_type": "display_data"
    }
   ],
   "source": [
    "plt.figure(figsize = (12,8))\n",
    "ax = sns.barplot(data = df_age_bin, x = 'index', y = 'counts',color=  '#e41a1c')\n",
    "ax.patch.set_facecolor('#FFDAB9')\n",
    "plt.ylabel('')\n",
    "for p in ax.patches:\n",
    "    height = p.get_height()\n",
    "    ax.text(p.get_x() + p.get_width() / 2., height + 20, int(height), ha = 'center', size = 13)\n",
    "plt.xticks(size = 15)    \n",
    "plt.yticks(size = 15)\n",
    "plt.title('Number of crimes by age',fontsize = 30)\n",
    "plt.xlabel('age_bin',fontsize = 20);"
   ]
  },
  {
   "cell_type": "markdown",
   "id": "654434b9",
   "metadata": {},
   "source": [
    " "
   ]
  },
  {
   "cell_type": "markdown",
   "id": "c7b9ccc8",
   "metadata": {},
   "source": [
    " - 전체 범죄건수 중에 30대와 20대 비율이 다른 나이대에 비해 높다.  \n",
    " - 미성년자의 범죄도 전체 범죄의 4.68%의 비율을 차지하여 교육과정에서   \n",
    " 범죄예방 교육을 강화한다.\n",
    "    "
   ]
  },
  {
   "cell_type": "markdown",
   "id": "bf9bbe4d",
   "metadata": {},
   "source": [
    " "
   ]
  },
  {
   "cell_type": "markdown",
   "id": "e9671275",
   "metadata": {},
   "source": [
    " "
   ]
  },
  {
   "cell_type": "markdown",
   "id": "b3b83672",
   "metadata": {},
   "source": [
    "#### 3-1-1 성별에 따른 나이 분포"
   ]
  },
  {
   "cell_type": "code",
   "execution_count": 8,
   "id": "716416ba",
   "metadata": {
    "scrolled": false
   },
   "outputs": [
    {
     "data": {
      "text/html": [
       "<div>\n",
       "<style scoped>\n",
       "    .dataframe tbody tr th:only-of-type {\n",
       "        vertical-align: middle;\n",
       "    }\n",
       "\n",
       "    .dataframe tbody tr th {\n",
       "        vertical-align: top;\n",
       "    }\n",
       "\n",
       "    .dataframe thead th {\n",
       "        text-align: right;\n",
       "    }\n",
       "</style>\n",
       "<table border=\"1\" class=\"dataframe\">\n",
       "  <thead>\n",
       "    <tr style=\"text-align: right;\">\n",
       "      <th></th>\n",
       "      <th>age_bin</th>\n",
       "      <th>gender</th>\n",
       "      <th>counts</th>\n",
       "    </tr>\n",
       "  </thead>\n",
       "  <tbody>\n",
       "    <tr>\n",
       "      <th>0</th>\n",
       "      <td>0-19</td>\n",
       "      <td>M</td>\n",
       "      <td>343</td>\n",
       "    </tr>\n",
       "    <tr>\n",
       "      <th>1</th>\n",
       "      <td>0-19</td>\n",
       "      <td>F</td>\n",
       "      <td>16</td>\n",
       "    </tr>\n",
       "    <tr>\n",
       "      <th>2</th>\n",
       "      <td>20-29</td>\n",
       "      <td>M</td>\n",
       "      <td>1859</td>\n",
       "    </tr>\n",
       "    <tr>\n",
       "      <th>3</th>\n",
       "      <td>20-29</td>\n",
       "      <td>F</td>\n",
       "      <td>85</td>\n",
       "    </tr>\n",
       "    <tr>\n",
       "      <th>4</th>\n",
       "      <td>30-39</td>\n",
       "      <td>M</td>\n",
       "      <td>2168</td>\n",
       "    </tr>\n",
       "    <tr>\n",
       "      <th>5</th>\n",
       "      <td>30-39</td>\n",
       "      <td>F</td>\n",
       "      <td>103</td>\n",
       "    </tr>\n",
       "    <tr>\n",
       "      <th>6</th>\n",
       "      <td>40-49</td>\n",
       "      <td>M</td>\n",
       "      <td>1301</td>\n",
       "    </tr>\n",
       "    <tr>\n",
       "      <th>7</th>\n",
       "      <td>40-49</td>\n",
       "      <td>F</td>\n",
       "      <td>68</td>\n",
       "    </tr>\n",
       "    <tr>\n",
       "      <th>8</th>\n",
       "      <td>50-59</td>\n",
       "      <td>M</td>\n",
       "      <td>795</td>\n",
       "    </tr>\n",
       "    <tr>\n",
       "      <th>9</th>\n",
       "      <td>50-59</td>\n",
       "      <td>F</td>\n",
       "      <td>44</td>\n",
       "    </tr>\n",
       "    <tr>\n",
       "      <th>10</th>\n",
       "      <td>60-69</td>\n",
       "      <td>M</td>\n",
       "      <td>337</td>\n",
       "    </tr>\n",
       "    <tr>\n",
       "      <th>11</th>\n",
       "      <td>60-69</td>\n",
       "      <td>F</td>\n",
       "      <td>11</td>\n",
       "    </tr>\n",
       "    <tr>\n",
       "      <th>12</th>\n",
       "      <td>70+</td>\n",
       "      <td>M</td>\n",
       "      <td>104</td>\n",
       "    </tr>\n",
       "    <tr>\n",
       "      <th>13</th>\n",
       "      <td>70+</td>\n",
       "      <td>F</td>\n",
       "      <td>7</td>\n",
       "    </tr>\n",
       "  </tbody>\n",
       "</table>\n",
       "</div>"
      ],
      "text/plain": [
       "   age_bin gender  counts\n",
       "0     0-19      M     343\n",
       "1     0-19      F      16\n",
       "2    20-29      M    1859\n",
       "3    20-29      F      85\n",
       "4    30-39      M    2168\n",
       "5    30-39      F     103\n",
       "6    40-49      M    1301\n",
       "7    40-49      F      68\n",
       "8    50-59      M     795\n",
       "9    50-59      F      44\n",
       "10   60-69      M     337\n",
       "11   60-69      F      11\n",
       "12     70+      M     104\n",
       "13     70+      F       7"
      ]
     },
     "execution_count": 8,
     "metadata": {},
     "output_type": "execute_result"
    }
   ],
   "source": [
    "df_age_gender = df.groupby(['age_bin'])['gender'].value_counts().reset_index(name = 'counts')\n",
    "df_age_gender"
   ]
  },
  {
   "cell_type": "code",
   "execution_count": 133,
   "id": "799ba7c2",
   "metadata": {
    "scrolled": false
   },
   "outputs": [
    {
     "data": {
      "image/png": "[encoded data removed]",
      "text/plain": [
       "<Figure size 864x576 with 1 Axes>"
      ]
     },
     "metadata": {
      "needs_background": "light"
     },
     "output_type": "display_data"
    }
   ],
   "source": [
    "plt.figure(figsize = (12,8))\n",
    "ax = sns.barplot(data =df_age_gender, x = 'age_bin', y = 'counts',hue = 'gender',palette='Set1')\n",
    "ax.patch.set_facecolor('#FFDAB9')\n",
    "plt.ylabel('')\n",
    "for p in ax.patches:\n",
    "    height = p.get_height()\n",
    "    ax.text(p.get_x() + p.get_width() / 2., height + 20, int(height), ha = 'center', size = 13)\n",
    "plt.xticks(size = 15)\n",
    "plt.yticks(size = 15)\n",
    "plt.xlabel('age_bin',fontsize = 20)\n",
    "plt.title('Number of crimes by age and gender',fontsize = 30)\n",
    "plt.legend(fontsize = 13);"
   ]
  },
  {
   "cell_type": "markdown",
   "id": "5c8d6199",
   "metadata": {},
   "source": [
    "- 여성의 범죄건수도 남성의 범죄건수과 마찬가지로 30대와 20대의 범죄 비율이 가장 높다.\n",
    "- 미성년자인 여성의 범죄가 전체 여성범죄 건수의 4.5% 남자인경우는 4.6%임으로  \n",
    "미성년자의 범죄 비율은 성별과는 상관관계가 없다"
   ]
  },
  {
   "cell_type": "markdown",
   "id": "19fbe449",
   "metadata": {},
   "source": [
    "  "
   ]
  },
  {
   "cell_type": "markdown",
   "id": "60c8c598",
   "metadata": {},
   "source": [
    " "
   ]
  },
  {
   "cell_type": "markdown",
   "id": "5cddfcaa",
   "metadata": {},
   "source": [
    " "
   ]
  },
  {
   "cell_type": "markdown",
   "id": "3410dc5c",
   "metadata": {},
   "source": [
    "#### 3-2 Gender"
   ]
  },
  {
   "cell_type": "code",
   "execution_count": 10,
   "id": "9afcaca9",
   "metadata": {},
   "outputs": [
    {
     "data": {
      "text/html": [
       "<div>\n",
       "<style scoped>\n",
       "    .dataframe tbody tr th:only-of-type {\n",
       "        vertical-align: middle;\n",
       "    }\n",
       "\n",
       "    .dataframe tbody tr th {\n",
       "        vertical-align: top;\n",
       "    }\n",
       "\n",
       "    .dataframe thead th {\n",
       "        text-align: right;\n",
       "    }\n",
       "</style>\n",
       "<table border=\"1\" class=\"dataframe\">\n",
       "  <thead>\n",
       "    <tr style=\"text-align: right;\">\n",
       "      <th></th>\n",
       "      <th>index</th>\n",
       "      <th>count</th>\n",
       "    </tr>\n",
       "  </thead>\n",
       "  <tbody>\n",
       "    <tr>\n",
       "      <th>0</th>\n",
       "      <td>M</td>\n",
       "      <td>7361</td>\n",
       "    </tr>\n",
       "    <tr>\n",
       "      <th>1</th>\n",
       "      <td>F</td>\n",
       "      <td>348</td>\n",
       "    </tr>\n",
       "  </tbody>\n",
       "</table>\n",
       "</div>"
      ],
      "text/plain": [
       "  index  count\n",
       "0     M   7361\n",
       "1     F    348"
      ]
     },
     "execution_count": 10,
     "metadata": {},
     "output_type": "execute_result"
    }
   ],
   "source": [
    "df['gender'].value_counts().reset_index(name = 'count')"
   ]
  },
  {
   "cell_type": "code",
   "execution_count": 134,
   "id": "082eaf63",
   "metadata": {
    "scrolled": false
   },
   "outputs": [
    {
     "data": {
      "image/png": "[encoded data removed]",
      "text/plain": [
       "<Figure size 864x576 with 1 Axes>"
      ]
     },
     "metadata": {
      "needs_background": "light"
     },
     "output_type": "display_data"
    }
   ],
   "source": [
    "plt.figure(figsize = (12,8))\n",
    "ax = sns.barplot(data = df['gender'].value_counts().reset_index(name = 'count'), x = 'count', y = 'index',palette='Set1')\n",
    "ax.patch.set_facecolor('#FFDAB9')\n",
    "for p in ax.patches:\n",
    "    x, y, width, height = p.get_bbox().bounds\n",
    "    ax.text(width*1.01, y+height/2, int(width), va='center',size = 10)\n",
    "plt.xticks(size = 15)\n",
    "plt.yticks(size = 15)\n",
    "plt.xlabel('Counts',fontsize = 20)\n",
    "plt.title('Number of crimes by gender',fontsize = 30)\n",
    "plt.ylabel('');"
   ]
  },
  {
   "cell_type": "markdown",
   "id": "84812ae7",
   "metadata": {},
   "source": [
    " - 전체 범죄건수중 범인의 비율이 남성이 95.4%를 차지하고 여성이 나머지 4.6%를 차지한다."
   ]
  },
  {
   "cell_type": "markdown",
   "id": "33f2dae8",
   "metadata": {},
   "source": [
    " "
   ]
  },
  {
   "cell_type": "markdown",
   "id": "22ae10f9",
   "metadata": {},
   "source": [
    " "
   ]
  },
  {
   "cell_type": "markdown",
   "id": "4cdc17f9",
   "metadata": {},
   "source": [
    " "
   ]
  },
  {
   "cell_type": "markdown",
   "id": "b90e4c32",
   "metadata": {},
   "source": [
    " "
   ]
  },
  {
   "cell_type": "markdown",
   "id": "d8c5517e",
   "metadata": {},
   "source": [
    "#### 3-3 Race"
   ]
  },
  {
   "cell_type": "markdown",
   "id": "0aff0a01",
   "metadata": {},
   "source": [
    "* 인종 종류 : Asian, White, Hispanic, Black, Other"
   ]
  },
  {
   "cell_type": "code",
   "execution_count": 12,
   "id": "7db2c24d",
   "metadata": {},
   "outputs": [
    {
     "data": {
      "text/html": [
       "<div>\n",
       "<style scoped>\n",
       "    .dataframe tbody tr th:only-of-type {\n",
       "        vertical-align: middle;\n",
       "    }\n",
       "\n",
       "    .dataframe tbody tr th {\n",
       "        vertical-align: top;\n",
       "    }\n",
       "\n",
       "    .dataframe thead th {\n",
       "        text-align: right;\n",
       "    }\n",
       "</style>\n",
       "<table border=\"1\" class=\"dataframe\">\n",
       "  <thead>\n",
       "    <tr style=\"text-align: right;\">\n",
       "      <th></th>\n",
       "      <th>index</th>\n",
       "      <th>counts</th>\n",
       "    </tr>\n",
       "  </thead>\n",
       "  <tbody>\n",
       "    <tr>\n",
       "      <th>0</th>\n",
       "      <td>W</td>\n",
       "      <td>3198</td>\n",
       "    </tr>\n",
       "    <tr>\n",
       "      <th>1</th>\n",
       "      <td>B</td>\n",
       "      <td>1686</td>\n",
       "    </tr>\n",
       "    <tr>\n",
       "      <th>2</th>\n",
       "      <td>H</td>\n",
       "      <td>1128</td>\n",
       "    </tr>\n",
       "    <tr>\n",
       "      <th>3</th>\n",
       "      <td>A</td>\n",
       "      <td>113</td>\n",
       "    </tr>\n",
       "    <tr>\n",
       "      <th>4</th>\n",
       "      <td>N</td>\n",
       "      <td>97</td>\n",
       "    </tr>\n",
       "    <tr>\n",
       "      <th>5</th>\n",
       "      <td>O</td>\n",
       "      <td>47</td>\n",
       "    </tr>\n",
       "  </tbody>\n",
       "</table>\n",
       "</div>"
      ],
      "text/plain": [
       "  index  counts\n",
       "0     W    3198\n",
       "1     B    1686\n",
       "2     H    1128\n",
       "3     A     113\n",
       "4     N      97\n",
       "5     O      47"
      ]
     },
     "execution_count": 12,
     "metadata": {},
     "output_type": "execute_result"
    }
   ],
   "source": [
    "df['race'].value_counts().reset_index(name = 'counts')"
   ]
  },
  {
   "cell_type": "code",
   "execution_count": 149,
   "id": "cee17371",
   "metadata": {},
   "outputs": [
    {
     "data": {
      "image/png": "[encoded data removed]",
      "text/plain": [
       "<Figure size 864x576 with 1 Axes>"
      ]
     },
     "metadata": {},
     "output_type": "display_data"
    }
   ],
   "source": [
    "color = ['#e41a1c', '#377eb8', '#4daf4a', '#984ea3', '#ff7f00', '#ffff33', '#a65628', '#f781bf', '#999999']\n",
    "\n",
    "wedgeprops = {\n",
    "    'edgecolor': 'black',\n",
    "    'linestyle': '-',\n",
    "    'linewidth': 1.5\n",
    "}\n",
    "label = ['White','Black','Hispanic','Asian','Nan','Other']\n",
    "plt.figure(figsize=(12,8),facecolor='#FFDAB9')\n",
    "ax = plt.pie(df['race'].value_counts(),autopct='%0.1f%%',shadow = False,colors=color, \n",
    "       wedgeprops=wedgeprops, textprops = {'fontsize' : 15})\n",
    "plt.title('Crime rate by race',fontsize = 30)\n",
    "plt.legend(labels = label,fontsize= 11,bbox_to_anchor=(0.95,0.75),facecolor='#FFDAB9');"
   ]
  },
  {
   "cell_type": "markdown",
   "id": "40fc3718",
   "metadata": {},
   "source": [
    " - 미국의 백인 인구가 60%를 차지하고 있기때문에 사건 피해자수의 전체 51.01%를 차지하고  \n",
    " 그 다음으로 흑인과 아시아인이 범죄 비율이 높다.  \n",
    " - 우리가 평소 미디어에서 흑인이 주로 범죄를 저지르기 때문에 흑인이 범죄비율이 높을것이라는 편견을  \n",
    " 가지고 있는데 하지만 실제는 흑인보다는 백인의 범죄 비율이 약2배 가까이 된다."
   ]
  },
  {
   "cell_type": "markdown",
   "id": "5a7c0094",
   "metadata": {},
   "source": [
    " "
   ]
  },
  {
   "cell_type": "markdown",
   "id": "38c499a0",
   "metadata": {},
   "source": [
    " "
   ]
  },
  {
   "cell_type": "markdown",
   "id": "f817dc71",
   "metadata": {},
   "source": [
    "#### 3-4 City"
   ]
  },
  {
   "cell_type": "code",
   "execution_count": 14,
   "id": "5f5e948f",
   "metadata": {},
   "outputs": [
    {
     "data": {
      "text/html": [
       "<div>\n",
       "<style scoped>\n",
       "    .dataframe tbody tr th:only-of-type {\n",
       "        vertical-align: middle;\n",
       "    }\n",
       "\n",
       "    .dataframe tbody tr th {\n",
       "        vertical-align: top;\n",
       "    }\n",
       "\n",
       "    .dataframe thead th {\n",
       "        text-align: right;\n",
       "    }\n",
       "</style>\n",
       "<table border=\"1\" class=\"dataframe\">\n",
       "  <thead>\n",
       "    <tr style=\"text-align: right;\">\n",
       "      <th></th>\n",
       "      <th>index</th>\n",
       "      <th>counts</th>\n",
       "    </tr>\n",
       "  </thead>\n",
       "  <tbody>\n",
       "    <tr>\n",
       "      <th>0</th>\n",
       "      <td>Los Angeles</td>\n",
       "      <td>128</td>\n",
       "    </tr>\n",
       "    <tr>\n",
       "      <th>1</th>\n",
       "      <td>Phoenix</td>\n",
       "      <td>101</td>\n",
       "    </tr>\n",
       "    <tr>\n",
       "      <th>2</th>\n",
       "      <td>Houston</td>\n",
       "      <td>87</td>\n",
       "    </tr>\n",
       "    <tr>\n",
       "      <th>3</th>\n",
       "      <td>San Antonio</td>\n",
       "      <td>66</td>\n",
       "    </tr>\n",
       "    <tr>\n",
       "      <th>4</th>\n",
       "      <td>Las Vegas</td>\n",
       "      <td>63</td>\n",
       "    </tr>\n",
       "    <tr>\n",
       "      <th>5</th>\n",
       "      <td>Albuquerque</td>\n",
       "      <td>54</td>\n",
       "    </tr>\n",
       "    <tr>\n",
       "      <th>6</th>\n",
       "      <td>Chicago</td>\n",
       "      <td>49</td>\n",
       "    </tr>\n",
       "    <tr>\n",
       "      <th>7</th>\n",
       "      <td>Columbus</td>\n",
       "      <td>48</td>\n",
       "    </tr>\n",
       "  </tbody>\n",
       "</table>\n",
       "</div>"
      ],
      "text/plain": [
       "         index  counts\n",
       "0  Los Angeles     128\n",
       "1      Phoenix     101\n",
       "2      Houston      87\n",
       "3  San Antonio      66\n",
       "4    Las Vegas      63\n",
       "5  Albuquerque      54\n",
       "6      Chicago      49\n",
       "7     Columbus      48"
      ]
     },
     "execution_count": 14,
     "metadata": {},
     "output_type": "execute_result"
    }
   ],
   "source": [
    "df['city'].value_counts().reset_index(name = 'counts').head(8)"
   ]
  },
  {
   "cell_type": "code",
   "execution_count": 136,
   "id": "b59c0d78",
   "metadata": {},
   "outputs": [
    {
     "data": {
      "image/png": "[encoded data removed]",
      "text/plain": [
       "<Figure size 864x576 with 1 Axes>"
      ]
     },
     "metadata": {
      "needs_background": "light"
     },
     "output_type": "display_data"
    }
   ],
   "source": [
    "plt.figure(figsize = (12,8))\n",
    "ax = sns.barplot(data = df['city'].value_counts().reset_index(name = 'counts').head(8), x = 'counts', y = 'index',palette='Set1')\n",
    "ax.patch.set_facecolor('#FFDAB9')\n",
    "for p in ax.patches:\n",
    "    x, y, width, height = p.get_bbox().bounds\n",
    "    ax.text(width*1.01, y+height/2, int(width), va='center',size = 12)\n",
    "plt.xticks(size = 15)\n",
    "plt.yticks(size = 15)\n",
    "plt.xlabel('Counts',fontsize = 20)\n",
    "plt.title('Number of crimes by city',fontsize = 30)\n",
    "plt.ylabel('');"
   ]
  },
  {
   "cell_type": "markdown",
   "id": "bb333bf2",
   "metadata": {},
   "source": [
    " - 범죄 발생지역 중 LA, Phoenix, Las Vegas 등 서부지역에서 발생하는 범죄건수가   \n",
    " 동족지역보다 높다."
   ]
  },
  {
   "cell_type": "markdown",
   "id": "fd5e3da9",
   "metadata": {},
   "source": [
    " "
   ]
  },
  {
   "cell_type": "markdown",
   "id": "be09e152",
   "metadata": {},
   "source": [
    "#### 3-5 Signs_of_mental_illness"
   ]
  },
  {
   "cell_type": "code",
   "execution_count": 150,
   "id": "1181a48f",
   "metadata": {},
   "outputs": [
    {
     "data": {
      "text/html": [
       "<div>\n",
       "<style scoped>\n",
       "    .dataframe tbody tr th:only-of-type {\n",
       "        vertical-align: middle;\n",
       "    }\n",
       "\n",
       "    .dataframe tbody tr th {\n",
       "        vertical-align: top;\n",
       "    }\n",
       "\n",
       "    .dataframe thead th {\n",
       "        text-align: right;\n",
       "    }\n",
       "</style>\n",
       "<table border=\"1\" class=\"dataframe\">\n",
       "  <thead>\n",
       "    <tr style=\"text-align: right;\">\n",
       "      <th></th>\n",
       "      <th>index</th>\n",
       "      <th>counts</th>\n",
       "    </tr>\n",
       "  </thead>\n",
       "  <tbody>\n",
       "    <tr>\n",
       "      <th>0</th>\n",
       "      <td>False</td>\n",
       "      <td>6089</td>\n",
       "    </tr>\n",
       "    <tr>\n",
       "      <th>1</th>\n",
       "      <td>True</td>\n",
       "      <td>1640</td>\n",
       "    </tr>\n",
       "  </tbody>\n",
       "</table>\n",
       "</div>"
      ],
      "text/plain": [
       "   index  counts\n",
       "0  False    6089\n",
       "1   True    1640"
      ]
     },
     "execution_count": 150,
     "metadata": {},
     "output_type": "execute_result"
    }
   ],
   "source": [
    "df_illness = df['signs_of_mental_illness'].value_counts().reset_index(name = 'counts')\n",
    "df_illness"
   ]
  },
  {
   "cell_type": "code",
   "execution_count": 151,
   "id": "53804bac",
   "metadata": {},
   "outputs": [],
   "source": [
    "df_illness.loc[0,'index'] = 'Normal'\n",
    "df_illness.loc[1,'index'] = 'Unnormal'"
   ]
  },
  {
   "cell_type": "code",
   "execution_count": 152,
   "id": "242afee6",
   "metadata": {},
   "outputs": [
    {
     "data": {
      "text/html": [
       "<div>\n",
       "<style scoped>\n",
       "    .dataframe tbody tr th:only-of-type {\n",
       "        vertical-align: middle;\n",
       "    }\n",
       "\n",
       "    .dataframe tbody tr th {\n",
       "        vertical-align: top;\n",
       "    }\n",
       "\n",
       "    .dataframe thead th {\n",
       "        text-align: right;\n",
       "    }\n",
       "</style>\n",
       "<table border=\"1\" class=\"dataframe\">\n",
       "  <thead>\n",
       "    <tr style=\"text-align: right;\">\n",
       "      <th></th>\n",
       "      <th>index</th>\n",
       "      <th>counts</th>\n",
       "    </tr>\n",
       "  </thead>\n",
       "  <tbody>\n",
       "    <tr>\n",
       "      <th>0</th>\n",
       "      <td>Normal</td>\n",
       "      <td>6089</td>\n",
       "    </tr>\n",
       "    <tr>\n",
       "      <th>1</th>\n",
       "      <td>Unnormal</td>\n",
       "      <td>1640</td>\n",
       "    </tr>\n",
       "  </tbody>\n",
       "</table>\n",
       "</div>"
      ],
      "text/plain": [
       "      index  counts\n",
       "0    Normal    6089\n",
       "1  Unnormal    1640"
      ]
     },
     "execution_count": 152,
     "metadata": {},
     "output_type": "execute_result"
    }
   ],
   "source": [
    "df_illness"
   ]
  },
  {
   "cell_type": "code",
   "execution_count": 153,
   "id": "f35671e5",
   "metadata": {},
   "outputs": [
    {
     "data": {
      "image/png": "[encoded data removed]",
      "text/plain": [
       "<Figure size 864x576 with 1 Axes>"
      ]
     },
     "metadata": {
      "needs_background": "light"
     },
     "output_type": "display_data"
    }
   ],
   "source": [
    "plt.figure(figsize = (12,8))\n",
    "ax = sns.barplot(data = df_illness , x = 'counts', y = 'index',palette='Set1')\n",
    "ax.patch.set_facecolor('#FFDAB9')\n",
    "for p in ax.patches:\n",
    "    x, y, width, height = p.get_bbox().bounds\n",
    "    ax.text(width*1.01, y+height/2, int(width), va='center',size = 10)\n",
    "plt.xticks(size = 15)\n",
    "plt.yticks(size = 15)\n",
    "plt.ylabel('')\n",
    "plt.title('Number of crimes by mental illness',fontsize = 30)\n",
    "plt.xlabel('Counts',fontsize = 20);"
   ]
  },
  {
   "cell_type": "markdown",
   "id": "f1215f3b",
   "metadata": {},
   "source": [
    " - 전체 범죄 중 정신질환을 가진 피해자는 1640명으로 21.4%를 차지하고  \n",
    " 피해자에 대한 보복범죄일 가능성이 크다.\n",
    " - 평소에 정신질환을 가진 사람들이 범죄발생 비율이 높다는 선입견을 가지고 있지만  \n",
    " 실제 데이터로 통계를 내보면 정신질환을 가지고 있지않은 일반인들의 비율이 상대적으로 높다."
   ]
  },
  {
   "cell_type": "markdown",
   "id": "ba902d94",
   "metadata": {},
   "source": [
    " "
   ]
  },
  {
   "cell_type": "markdown",
   "id": "5ea9955b",
   "metadata": {},
   "source": [
    "#### 3-5-1 성별에 따른 정신질환 여부"
   ]
  },
  {
   "cell_type": "code",
   "execution_count": 20,
   "id": "5c5147fe",
   "metadata": {},
   "outputs": [
    {
     "data": {
      "text/html": [
       "<div>\n",
       "<style scoped>\n",
       "    .dataframe tbody tr th:only-of-type {\n",
       "        vertical-align: middle;\n",
       "    }\n",
       "\n",
       "    .dataframe tbody tr th {\n",
       "        vertical-align: top;\n",
       "    }\n",
       "\n",
       "    .dataframe thead th {\n",
       "        text-align: right;\n",
       "    }\n",
       "</style>\n",
       "<table border=\"1\" class=\"dataframe\">\n",
       "  <thead>\n",
       "    <tr style=\"text-align: right;\">\n",
       "      <th></th>\n",
       "      <th>gender</th>\n",
       "      <th>signs_of_mental_illness</th>\n",
       "      <th>counts</th>\n",
       "    </tr>\n",
       "  </thead>\n",
       "  <tbody>\n",
       "    <tr>\n",
       "      <th>2</th>\n",
       "      <td>M</td>\n",
       "      <td>False</td>\n",
       "      <td>5835</td>\n",
       "    </tr>\n",
       "    <tr>\n",
       "      <th>3</th>\n",
       "      <td>M</td>\n",
       "      <td>True</td>\n",
       "      <td>1526</td>\n",
       "    </tr>\n",
       "    <tr>\n",
       "      <th>0</th>\n",
       "      <td>F</td>\n",
       "      <td>False</td>\n",
       "      <td>235</td>\n",
       "    </tr>\n",
       "    <tr>\n",
       "      <th>1</th>\n",
       "      <td>F</td>\n",
       "      <td>True</td>\n",
       "      <td>113</td>\n",
       "    </tr>\n",
       "  </tbody>\n",
       "</table>\n",
       "</div>"
      ],
      "text/plain": [
       "  gender  signs_of_mental_illness  counts\n",
       "2      M                    False    5835\n",
       "3      M                     True    1526\n",
       "0      F                    False     235\n",
       "1      F                     True     113"
      ]
     },
     "execution_count": 20,
     "metadata": {},
     "output_type": "execute_result"
    }
   ],
   "source": [
    "df_g_illness = df.groupby(['gender'])['signs_of_mental_illness'].value_counts().reset_index(name = 'counts').sort_values(by = 'gender',ascending = False)\n",
    "df_g_illness"
   ]
  },
  {
   "cell_type": "code",
   "execution_count": 154,
   "id": "7ed1bc20",
   "metadata": {},
   "outputs": [
    {
     "data": {
      "text/html": [
       "<div>\n",
       "<style scoped>\n",
       "    .dataframe tbody tr th:only-of-type {\n",
       "        vertical-align: middle;\n",
       "    }\n",
       "\n",
       "    .dataframe tbody tr th {\n",
       "        vertical-align: top;\n",
       "    }\n",
       "\n",
       "    .dataframe thead th {\n",
       "        text-align: right;\n",
       "    }\n",
       "</style>\n",
       "<table border=\"1\" class=\"dataframe\">\n",
       "  <thead>\n",
       "    <tr style=\"text-align: right;\">\n",
       "      <th></th>\n",
       "      <th>gender</th>\n",
       "      <th>signs_of_mental_illness</th>\n",
       "      <th>counts</th>\n",
       "    </tr>\n",
       "  </thead>\n",
       "  <tbody>\n",
       "    <tr>\n",
       "      <th>2</th>\n",
       "      <td>M</td>\n",
       "      <td>Normal</td>\n",
       "      <td>5835</td>\n",
       "    </tr>\n",
       "    <tr>\n",
       "      <th>3</th>\n",
       "      <td>M</td>\n",
       "      <td>Unnormal</td>\n",
       "      <td>1526</td>\n",
       "    </tr>\n",
       "    <tr>\n",
       "      <th>0</th>\n",
       "      <td>F</td>\n",
       "      <td>Normal</td>\n",
       "      <td>235</td>\n",
       "    </tr>\n",
       "    <tr>\n",
       "      <th>1</th>\n",
       "      <td>F</td>\n",
       "      <td>Unnormal</td>\n",
       "      <td>113</td>\n",
       "    </tr>\n",
       "  </tbody>\n",
       "</table>\n",
       "</div>"
      ],
      "text/plain": [
       "  gender signs_of_mental_illness  counts\n",
       "2      M                  Normal    5835\n",
       "3      M                Unnormal    1526\n",
       "0      F                  Normal     235\n",
       "1      F                Unnormal     113"
      ]
     },
     "execution_count": 154,
     "metadata": {},
     "output_type": "execute_result"
    }
   ],
   "source": [
    "df_g_illness.loc[0,'signs_of_mental_illness'] = 'Normal'\n",
    "df_g_illness.loc[1,'signs_of_mental_illness'] = 'Unnormal'\n",
    "df_g_illness.loc[2,'signs_of_mental_illness'] = 'Normal'\n",
    "df_g_illness.loc[3,'signs_of_mental_illness'] = 'Unnormal'\n",
    "df_g_illness"
   ]
  },
  {
   "cell_type": "code",
   "execution_count": 155,
   "id": "9cbad2be",
   "metadata": {},
   "outputs": [
    {
     "data": {
      "image/png": "[encoded data removed]",
      "text/plain": [
       "<Figure size 864x576 with 1 Axes>"
      ]
     },
     "metadata": {
      "needs_background": "light"
     },
     "output_type": "display_data"
    }
   ],
   "source": [
    "plt.figure(figsize = (12,8))\n",
    "ax = sns.barplot(data =df_g_illness, x = 'signs_of_mental_illness', y = 'counts',hue = 'gender',palette='Set1')\n",
    "ax.patch.set_facecolor('#FFDAB9')\n",
    "plt.ylabel('')\n",
    "for p in ax.patches:\n",
    "    height = p.get_height()\n",
    "    ax.text(p.get_x() + p.get_width() / 2., height + 20, int(height), ha = 'center', size = 13)\n",
    "plt.xticks(size = 15)\n",
    "plt.yticks(size = 15)\n",
    "plt.xlabel('Signs_of_mental_illness',fontsize = 20)\n",
    "plt.title('Number of crimes by mental illness and gender',fontsize = 30)\n",
    "plt.legend(fontsize = 13);"
   ]
  },
  {
   "cell_type": "markdown",
   "id": "7b07895e",
   "metadata": {},
   "source": [
    " - 정신질환을 가진 범인 중 남성의 비율이 93%이고 여성은 7%이다.\n",
    " - 남성 범죄자중 정신질환을 가진 비율이 20%이고,   \n",
    " 여성은 여성범죄자중 32%가 정신질환자임으로  \n",
    " 여성인 경우 정신 질환을 가지고 있으면 범죄발생률이 높다.\n"
   ]
  },
  {
   "cell_type": "markdown",
   "id": "47df4609",
   "metadata": {},
   "source": [
    " "
   ]
  },
  {
   "cell_type": "markdown",
   "id": "8b1d3302",
   "metadata": {},
   "source": [
    "#### 3-5 Flee"
   ]
  },
  {
   "cell_type": "code",
   "execution_count": 23,
   "id": "7683dbdb",
   "metadata": {},
   "outputs": [
    {
     "data": {
      "text/html": [
       "<div>\n",
       "<style scoped>\n",
       "    .dataframe tbody tr th:only-of-type {\n",
       "        vertical-align: middle;\n",
       "    }\n",
       "\n",
       "    .dataframe tbody tr th {\n",
       "        vertical-align: top;\n",
       "    }\n",
       "\n",
       "    .dataframe thead th {\n",
       "        text-align: right;\n",
       "    }\n",
       "</style>\n",
       "<table border=\"1\" class=\"dataframe\">\n",
       "  <thead>\n",
       "    <tr style=\"text-align: right;\">\n",
       "      <th></th>\n",
       "      <th>index</th>\n",
       "      <th>counts</th>\n",
       "    </tr>\n",
       "  </thead>\n",
       "  <tbody>\n",
       "    <tr>\n",
       "      <th>0</th>\n",
       "      <td>Not fleeing</td>\n",
       "      <td>4336</td>\n",
       "    </tr>\n",
       "    <tr>\n",
       "      <th>1</th>\n",
       "      <td>Car</td>\n",
       "      <td>1249</td>\n",
       "    </tr>\n",
       "    <tr>\n",
       "      <th>2</th>\n",
       "      <td>Foot</td>\n",
       "      <td>982</td>\n",
       "    </tr>\n",
       "    <tr>\n",
       "      <th>3</th>\n",
       "      <td>Other</td>\n",
       "      <td>287</td>\n",
       "    </tr>\n",
       "  </tbody>\n",
       "</table>\n",
       "</div>"
      ],
      "text/plain": [
       "         index  counts\n",
       "0  Not fleeing    4336\n",
       "1          Car    1249\n",
       "2         Foot     982\n",
       "3        Other     287"
      ]
     },
     "execution_count": 23,
     "metadata": {},
     "output_type": "execute_result"
    }
   ],
   "source": [
    "df['flee'].value_counts().reset_index(name = 'counts')"
   ]
  },
  {
   "cell_type": "code",
   "execution_count": 146,
   "id": "e68857a7",
   "metadata": {},
   "outputs": [
    {
     "data": {
      "image/png": "[encoded data removed]",
      "text/plain": [
       "<Figure size 864x576 with 1 Axes>"
      ]
     },
     "metadata": {},
     "output_type": "display_data"
    }
   ],
   "source": [
    "color = ['#e41a1c', '#377eb8', '#4daf4a', '#984ea3', '#ff7f00', '#ffff33', '#a65628', '#f781bf', '#999999']\n",
    "\n",
    "wedgeprops = {\n",
    "    'edgecolor': 'black',\n",
    "    'linestyle': '-',\n",
    "    'linewidth': 1.5\n",
    "}\n",
    "plt.figure(figsize=(12,8),facecolor='#FFDAB9')\n",
    "ax = plt.pie(df['flee'].value_counts(),autopct='%0.1f%%',shadow = False,colors=color, \n",
    "       wedgeprops=wedgeprops, textprops = {'fontsize' : 15});\n",
    "plt.title('Crime Fleeing Percentage',fontsize = 30)\n",
    "plt.legend(labels = df['flee'].unique(),fontsize= 11,bbox_to_anchor=(0.95,0.75),facecolor='#FFDAB9');"
   ]
  },
  {
   "cell_type": "markdown",
   "id": "9b206bb9",
   "metadata": {},
   "source": [
    " - 전체 범죄건수중 피해자가 현장에서 붙잡히는 과정중 사살당한 비율이 63.3%으로  \n",
    "나머지 범인은 도보나 차량으로 도주하였으나 도주 과정중에서 사살되었다."
   ]
  },
  {
   "cell_type": "markdown",
   "id": "54371867",
   "metadata": {},
   "source": [
    "#### 3-6 Armed"
   ]
  },
  {
   "cell_type": "code",
   "execution_count": 25,
   "id": "828c38a3",
   "metadata": {},
   "outputs": [
    {
     "data": {
      "text/html": [
       "<div>\n",
       "<style scoped>\n",
       "    .dataframe tbody tr th:only-of-type {\n",
       "        vertical-align: middle;\n",
       "    }\n",
       "\n",
       "    .dataframe tbody tr th {\n",
       "        vertical-align: top;\n",
       "    }\n",
       "\n",
       "    .dataframe thead th {\n",
       "        text-align: right;\n",
       "    }\n",
       "</style>\n",
       "<table border=\"1\" class=\"dataframe\">\n",
       "  <thead>\n",
       "    <tr style=\"text-align: right;\">\n",
       "      <th></th>\n",
       "      <th>index</th>\n",
       "      <th>counts</th>\n",
       "    </tr>\n",
       "  </thead>\n",
       "  <tbody>\n",
       "    <tr>\n",
       "      <th>0</th>\n",
       "      <td>gun</td>\n",
       "      <td>4407</td>\n",
       "    </tr>\n",
       "    <tr>\n",
       "      <th>1</th>\n",
       "      <td>knife</td>\n",
       "      <td>1108</td>\n",
       "    </tr>\n",
       "    <tr>\n",
       "      <th>2</th>\n",
       "      <td>unarmed</td>\n",
       "      <td>456</td>\n",
       "    </tr>\n",
       "    <tr>\n",
       "      <th>3</th>\n",
       "      <td>undetermined</td>\n",
       "      <td>313</td>\n",
       "    </tr>\n",
       "    <tr>\n",
       "      <th>4</th>\n",
       "      <td>vehicle</td>\n",
       "      <td>276</td>\n",
       "    </tr>\n",
       "    <tr>\n",
       "      <th>5</th>\n",
       "      <td>toy weapon</td>\n",
       "      <td>245</td>\n",
       "    </tr>\n",
       "    <tr>\n",
       "      <th>6</th>\n",
       "      <td>unknown weapon</td>\n",
       "      <td>119</td>\n",
       "    </tr>\n",
       "    <tr>\n",
       "      <th>7</th>\n",
       "      <td>machete</td>\n",
       "      <td>61</td>\n",
       "    </tr>\n",
       "  </tbody>\n",
       "</table>\n",
       "</div>"
      ],
      "text/plain": [
       "            index  counts\n",
       "0             gun    4407\n",
       "1           knife    1108\n",
       "2         unarmed     456\n",
       "3    undetermined     313\n",
       "4         vehicle     276\n",
       "5      toy weapon     245\n",
       "6  unknown weapon     119\n",
       "7         machete      61"
      ]
     },
     "execution_count": 25,
     "metadata": {},
     "output_type": "execute_result"
    }
   ],
   "source": [
    "df['armed'].value_counts().head(8).reset_index(name = 'counts')"
   ]
  },
  {
   "cell_type": "code",
   "execution_count": 142,
   "id": "ea001d15",
   "metadata": {},
   "outputs": [
    {
     "data": {
      "image/png": "[encoded data removed]",
      "text/plain": [
       "<Figure size 864x576 with 1 Axes>"
      ]
     },
     "metadata": {
      "needs_background": "light"
     },
     "output_type": "display_data"
    }
   ],
   "source": [
    "plt.figure(figsize = (12,8))\n",
    "ax = sns.barplot(data = df['armed'].value_counts().head(8).reset_index(name = 'counts'), x = 'counts', y = 'index',palette='Set1')\n",
    "ax.patch.set_facecolor('#FFDAB9')\n",
    "for p in ax.patches:\n",
    "    x, y, width, height = p.get_bbox().bounds\n",
    "    ax.text(width*1.01, y+height/2, int(width), va='center',size = 12)\n",
    "plt.xticks(size = 15)\n",
    "plt.yticks(size = 15)\n",
    "plt.xlabel('Counts',fontsize = 20)\n",
    "plt.title('Number of crimes by armed type',fontsize = 30)\n",
    "plt.ylabel('');"
   ]
  },
  {
   "cell_type": "markdown",
   "id": "174a0105",
   "metadata": {},
   "source": [
    " - 미국은 개인 총기소유가 허락되는 나라인만큼 전체 범죄 중 총을 무장한 범죄가  \n",
    " 4407건으로 전체 범죄중 57.1%를 차지한다.  \n",
    " - 앞으로도 전체 범죄 중 총을 부장한 범죄의 비율이 증가할 경우 미국에서   \n",
    " 특별한 조치가 필요하다."
   ]
  },
  {
   "cell_type": "markdown",
   "id": "2071d199",
   "metadata": {},
   "source": [
    " "
   ]
  },
  {
   "cell_type": "markdown",
   "id": "0e920691",
   "metadata": {},
   "source": [
    "#### 3-7 Threat_level"
   ]
  },
  {
   "cell_type": "code",
   "execution_count": 27,
   "id": "3ecda563",
   "metadata": {},
   "outputs": [
    {
     "data": {
      "text/html": [
       "<div>\n",
       "<style scoped>\n",
       "    .dataframe tbody tr th:only-of-type {\n",
       "        vertical-align: middle;\n",
       "    }\n",
       "\n",
       "    .dataframe tbody tr th {\n",
       "        vertical-align: top;\n",
       "    }\n",
       "\n",
       "    .dataframe thead th {\n",
       "        text-align: right;\n",
       "    }\n",
       "</style>\n",
       "<table border=\"1\" class=\"dataframe\">\n",
       "  <thead>\n",
       "    <tr style=\"text-align: right;\">\n",
       "      <th></th>\n",
       "      <th>index</th>\n",
       "      <th>counts</th>\n",
       "    </tr>\n",
       "  </thead>\n",
       "  <tbody>\n",
       "    <tr>\n",
       "      <th>0</th>\n",
       "      <td>attack</td>\n",
       "      <td>4875</td>\n",
       "    </tr>\n",
       "    <tr>\n",
       "      <th>1</th>\n",
       "      <td>other</td>\n",
       "      <td>2552</td>\n",
       "    </tr>\n",
       "    <tr>\n",
       "      <th>2</th>\n",
       "      <td>undetermined</td>\n",
       "      <td>302</td>\n",
       "    </tr>\n",
       "  </tbody>\n",
       "</table>\n",
       "</div>"
      ],
      "text/plain": [
       "          index  counts\n",
       "0        attack    4875\n",
       "1         other    2552\n",
       "2  undetermined     302"
      ]
     },
     "execution_count": 27,
     "metadata": {},
     "output_type": "execute_result"
    }
   ],
   "source": [
    "df['threat_level'].value_counts().reset_index(name= 'counts')"
   ]
  },
  {
   "cell_type": "code",
   "execution_count": 147,
   "id": "a3f66943",
   "metadata": {},
   "outputs": [
    {
     "data": {
      "image/png": "[encoded data removed]",
      "text/plain": [
       "<Figure size 864x576 with 1 Axes>"
      ]
     },
     "metadata": {},
     "output_type": "display_data"
    }
   ],
   "source": [
    "color = ['#e41a1c', '#377eb8', '#4daf4a', '#984ea3', '#ff7f00', '#ffff33', '#a65628', '#f781bf', '#999999']\n",
    "\n",
    "wedgeprops = {\n",
    "    'edgecolor': 'black',\n",
    "    'linestyle': '-',\n",
    "    'linewidth': 1.5\n",
    "}\n",
    "plt.figure(figsize=(12,8),facecolor='#FFDAB9')\n",
    "ax = plt.pie(df['threat_level'].value_counts(),autopct='%0.1f%%',shadow = False,colors=color, \n",
    "       wedgeprops=wedgeprops, textprops = {'fontsize' : 15});\n",
    "plt.legend(labels = df['threat_level'].unique(),fontsize= 11,bbox_to_anchor=(0.95,0.75),facecolor='#FFDAB9')\n",
    "plt.title('Crime Threat Level Percentage',fontsize = 30);"
   ]
  },
  {
   "cell_type": "markdown",
   "id": "1017bac1",
   "metadata": {},
   "source": [
    " - 전체 범행중 63.1%가 중범죄이상으로 판단되어   \n",
    "범행 가해자에 대한 공격이 이루어졌다.\n",
    " - 나머지 범죄는 경범죄 수준으로 범인에 대한 사살이 아닌  \n",
    " 제압같은 명령이 하달되었다."
   ]
  },
  {
   "cell_type": "markdown",
   "id": "f11bf89b",
   "metadata": {},
   "source": [
    " "
   ]
  },
  {
   "cell_type": "markdown",
   "id": "33ffab0f",
   "metadata": {},
   "source": [
    " "
   ]
  },
  {
   "cell_type": "markdown",
   "id": "136a7a7f",
   "metadata": {},
   "source": [
    "### 4. 월별 범죄 발생건수  예측"
   ]
  },
  {
   "cell_type": "markdown",
   "id": "92c6d7a3",
   "metadata": {},
   "source": [
    "#### 4-1 Prophet모델을 이용하여 12개월 이후까지의 범죄 발생건수를 예측"
   ]
  },
  {
   "cell_type": "markdown",
   "id": "14e31dab",
   "metadata": {},
   "source": [
    " - 기존에 데이터의 변형을 막기 위해 데이터를 복사해서 예측만을  \n",
    " 위한 데이터 셋을 준비한다."
   ]
  },
  {
   "cell_type": "code",
   "execution_count": 29,
   "id": "c88541eb",
   "metadata": {},
   "outputs": [],
   "source": [
    "ts = df.copy()"
   ]
  },
  {
   "cell_type": "markdown",
   "id": "c1f0e243",
   "metadata": {},
   "source": [
    "* 월별예측을 하기위해 date 컬럼을 변경하고  \n",
    "2022년 9월 데이터는 전부 수집되어있지 않기에 삭제하고 예측한다."
   ]
  },
  {
   "cell_type": "code",
   "execution_count": 30,
   "id": "add84a0e",
   "metadata": {},
   "outputs": [],
   "source": [
    "ts['date'] = ts['date'].str[:7]"
   ]
  },
  {
   "cell_type": "code",
   "execution_count": 31,
   "id": "6c945e35",
   "metadata": {},
   "outputs": [],
   "source": [
    "ts = ts['date'].value_counts(sort= False).drop('2022-09',axis = 0).reset_index(name = 'counts')"
   ]
  },
  {
   "cell_type": "code",
   "execution_count": 32,
   "id": "375303a2",
   "metadata": {},
   "outputs": [],
   "source": [
    "ts.columns = ['ds','y']"
   ]
  },
  {
   "cell_type": "code",
   "execution_count": 33,
   "id": "6149a8b6",
   "metadata": {
    "scrolled": true
   },
   "outputs": [
    {
     "data": {
      "text/html": [
       "<div>\n",
       "<style scoped>\n",
       "    .dataframe tbody tr th:only-of-type {\n",
       "        vertical-align: middle;\n",
       "    }\n",
       "\n",
       "    .dataframe tbody tr th {\n",
       "        vertical-align: top;\n",
       "    }\n",
       "\n",
       "    .dataframe thead th {\n",
       "        text-align: right;\n",
       "    }\n",
       "</style>\n",
       "<table border=\"1\" class=\"dataframe\">\n",
       "  <thead>\n",
       "    <tr style=\"text-align: right;\">\n",
       "      <th></th>\n",
       "      <th>ds</th>\n",
       "      <th>y</th>\n",
       "    </tr>\n",
       "  </thead>\n",
       "  <tbody>\n",
       "    <tr>\n",
       "      <th>0</th>\n",
       "      <td>2015-01-01</td>\n",
       "      <td>76</td>\n",
       "    </tr>\n",
       "    <tr>\n",
       "      <th>1</th>\n",
       "      <td>2015-02-01</td>\n",
       "      <td>77</td>\n",
       "    </tr>\n",
       "    <tr>\n",
       "      <th>2</th>\n",
       "      <td>2015-03-01</td>\n",
       "      <td>92</td>\n",
       "    </tr>\n",
       "    <tr>\n",
       "      <th>3</th>\n",
       "      <td>2015-04-01</td>\n",
       "      <td>84</td>\n",
       "    </tr>\n",
       "    <tr>\n",
       "      <th>4</th>\n",
       "      <td>2015-05-01</td>\n",
       "      <td>71</td>\n",
       "    </tr>\n",
       "  </tbody>\n",
       "</table>\n",
       "</div>"
      ],
      "text/plain": [
       "          ds   y\n",
       "0 2015-01-01  76\n",
       "1 2015-02-01  77\n",
       "2 2015-03-01  92\n",
       "3 2015-04-01  84\n",
       "4 2015-05-01  71"
      ]
     },
     "execution_count": 33,
     "metadata": {},
     "output_type": "execute_result"
    }
   ],
   "source": [
    "ts['ds'] = pd.to_datetime(ts['ds'])\n",
    "ts.head()"
   ]
  },
  {
   "cell_type": "markdown",
   "id": "bab3c773",
   "metadata": {},
   "source": [
    " - Prophet 모델의 패키지를 불러온다."
   ]
  },
  {
   "cell_type": "code",
   "execution_count": 34,
   "id": "cccf4dcf",
   "metadata": {},
   "outputs": [],
   "source": [
    "from prophet import Prophet"
   ]
  },
  {
   "cell_type": "code",
   "execution_count": 35,
   "id": "a2070ed1",
   "metadata": {},
   "outputs": [
    {
     "name": "stderr",
     "output_type": "stream",
     "text": [
      "19:15:52 - cmdstanpy - INFO - Chain [1] start processing\n",
      "19:15:54 - cmdstanpy - INFO - Chain [1] done processing\n"
     ]
    },
    {
     "data": {
      "text/plain": [
       "<prophet.forecaster.Prophet at 0x1fb0089f760>"
      ]
     },
     "execution_count": 35,
     "metadata": {},
     "output_type": "execute_result"
    }
   ],
   "source": [
    "model = Prophet()\n",
    "model.fit(ts)"
   ]
  },
  {
   "cell_type": "markdown",
   "id": "c14ee2eb",
   "metadata": {},
   "source": [
    "  - Prophet을 통해 데이터셋 이후 12개월의 범죄건수를 예측한다."
   ]
  },
  {
   "cell_type": "code",
   "execution_count": 36,
   "id": "23dcac01",
   "metadata": {},
   "outputs": [],
   "source": [
    "future = model.make_future_dataframe(periods = 12,freq = 'MS')\n",
    "forecast = model.predict(future)"
   ]
  },
  {
   "cell_type": "code",
   "execution_count": 37,
   "id": "09a47f17",
   "metadata": {},
   "outputs": [
    {
     "data": {
      "text/html": [
       "<div>\n",
       "<style scoped>\n",
       "    .dataframe tbody tr th:only-of-type {\n",
       "        vertical-align: middle;\n",
       "    }\n",
       "\n",
       "    .dataframe tbody tr th {\n",
       "        vertical-align: top;\n",
       "    }\n",
       "\n",
       "    .dataframe thead th {\n",
       "        text-align: right;\n",
       "    }\n",
       "</style>\n",
       "<table border=\"1\" class=\"dataframe\">\n",
       "  <thead>\n",
       "    <tr style=\"text-align: right;\">\n",
       "      <th></th>\n",
       "      <th>ds</th>\n",
       "      <th>yhat</th>\n",
       "    </tr>\n",
       "  </thead>\n",
       "  <tbody>\n",
       "    <tr>\n",
       "      <th>99</th>\n",
       "      <td>2023-04-01</td>\n",
       "      <td>89.955634</td>\n",
       "    </tr>\n",
       "    <tr>\n",
       "      <th>100</th>\n",
       "      <td>2023-05-01</td>\n",
       "      <td>80.007914</td>\n",
       "    </tr>\n",
       "    <tr>\n",
       "      <th>101</th>\n",
       "      <td>2023-06-01</td>\n",
       "      <td>84.431754</td>\n",
       "    </tr>\n",
       "    <tr>\n",
       "      <th>102</th>\n",
       "      <td>2023-07-01</td>\n",
       "      <td>98.222354</td>\n",
       "    </tr>\n",
       "    <tr>\n",
       "      <th>103</th>\n",
       "      <td>2023-08-01</td>\n",
       "      <td>87.337515</td>\n",
       "    </tr>\n",
       "  </tbody>\n",
       "</table>\n",
       "</div>"
      ],
      "text/plain": [
       "            ds       yhat\n",
       "99  2023-04-01  89.955634\n",
       "100 2023-05-01  80.007914\n",
       "101 2023-06-01  84.431754\n",
       "102 2023-07-01  98.222354\n",
       "103 2023-08-01  87.337515"
      ]
     },
     "execution_count": 37,
     "metadata": {},
     "output_type": "execute_result"
    }
   ],
   "source": [
    "forecast[['ds','yhat']].tail()"
   ]
  },
  {
   "cell_type": "code",
   "execution_count": 38,
   "id": "3ab3831b",
   "metadata": {},
   "outputs": [
    {
     "data": {
      "text/html": [
       "<div>\n",
       "<style scoped>\n",
       "    .dataframe tbody tr th:only-of-type {\n",
       "        vertical-align: middle;\n",
       "    }\n",
       "\n",
       "    .dataframe tbody tr th {\n",
       "        vertical-align: top;\n",
       "    }\n",
       "\n",
       "    .dataframe thead th {\n",
       "        text-align: right;\n",
       "    }\n",
       "</style>\n",
       "<table border=\"1\" class=\"dataframe\">\n",
       "  <thead>\n",
       "    <tr style=\"text-align: right;\">\n",
       "      <th></th>\n",
       "      <th>ds</th>\n",
       "      <th>trend</th>\n",
       "      <th>yhat_lower</th>\n",
       "      <th>yhat_upper</th>\n",
       "      <th>trend_lower</th>\n",
       "      <th>trend_upper</th>\n",
       "      <th>additive_terms</th>\n",
       "      <th>additive_terms_lower</th>\n",
       "      <th>additive_terms_upper</th>\n",
       "      <th>yearly</th>\n",
       "      <th>yearly_lower</th>\n",
       "      <th>yearly_upper</th>\n",
       "      <th>multiplicative_terms</th>\n",
       "      <th>multiplicative_terms_lower</th>\n",
       "      <th>multiplicative_terms_upper</th>\n",
       "      <th>yhat</th>\n",
       "    </tr>\n",
       "  </thead>\n",
       "  <tbody>\n",
       "    <tr>\n",
       "      <th>99</th>\n",
       "      <td>2023-04-01</td>\n",
       "      <td>84.850794</td>\n",
       "      <td>79.517843</td>\n",
       "      <td>100.293101</td>\n",
       "      <td>84.850748</td>\n",
       "      <td>84.850836</td>\n",
       "      <td>5.104840</td>\n",
       "      <td>5.104840</td>\n",
       "      <td>5.104840</td>\n",
       "      <td>5.104840</td>\n",
       "      <td>5.104840</td>\n",
       "      <td>5.104840</td>\n",
       "      <td>0.0</td>\n",
       "      <td>0.0</td>\n",
       "      <td>0.0</td>\n",
       "      <td>89.955634</td>\n",
       "    </tr>\n",
       "    <tr>\n",
       "      <th>100</th>\n",
       "      <td>2023-05-01</td>\n",
       "      <td>84.926789</td>\n",
       "      <td>68.383765</td>\n",
       "      <td>90.854213</td>\n",
       "      <td>84.926734</td>\n",
       "      <td>84.926841</td>\n",
       "      <td>-4.918875</td>\n",
       "      <td>-4.918875</td>\n",
       "      <td>-4.918875</td>\n",
       "      <td>-4.918875</td>\n",
       "      <td>-4.918875</td>\n",
       "      <td>-4.918875</td>\n",
       "      <td>0.0</td>\n",
       "      <td>0.0</td>\n",
       "      <td>0.0</td>\n",
       "      <td>80.007914</td>\n",
       "    </tr>\n",
       "    <tr>\n",
       "      <th>101</th>\n",
       "      <td>2023-06-01</td>\n",
       "      <td>85.005318</td>\n",
       "      <td>72.428221</td>\n",
       "      <td>94.751601</td>\n",
       "      <td>85.005253</td>\n",
       "      <td>85.005376</td>\n",
       "      <td>-0.573564</td>\n",
       "      <td>-0.573564</td>\n",
       "      <td>-0.573564</td>\n",
       "      <td>-0.573564</td>\n",
       "      <td>-0.573564</td>\n",
       "      <td>-0.573564</td>\n",
       "      <td>0.0</td>\n",
       "      <td>0.0</td>\n",
       "      <td>0.0</td>\n",
       "      <td>84.431754</td>\n",
       "    </tr>\n",
       "    <tr>\n",
       "      <th>102</th>\n",
       "      <td>2023-07-01</td>\n",
       "      <td>85.081313</td>\n",
       "      <td>86.803187</td>\n",
       "      <td>109.286605</td>\n",
       "      <td>85.081238</td>\n",
       "      <td>85.081380</td>\n",
       "      <td>13.141042</td>\n",
       "      <td>13.141042</td>\n",
       "      <td>13.141042</td>\n",
       "      <td>13.141042</td>\n",
       "      <td>13.141042</td>\n",
       "      <td>13.141042</td>\n",
       "      <td>0.0</td>\n",
       "      <td>0.0</td>\n",
       "      <td>0.0</td>\n",
       "      <td>98.222354</td>\n",
       "    </tr>\n",
       "    <tr>\n",
       "      <th>103</th>\n",
       "      <td>2023-08-01</td>\n",
       "      <td>85.159841</td>\n",
       "      <td>76.974541</td>\n",
       "      <td>99.123640</td>\n",
       "      <td>85.159755</td>\n",
       "      <td>85.159917</td>\n",
       "      <td>2.177673</td>\n",
       "      <td>2.177673</td>\n",
       "      <td>2.177673</td>\n",
       "      <td>2.177673</td>\n",
       "      <td>2.177673</td>\n",
       "      <td>2.177673</td>\n",
       "      <td>0.0</td>\n",
       "      <td>0.0</td>\n",
       "      <td>0.0</td>\n",
       "      <td>87.337515</td>\n",
       "    </tr>\n",
       "  </tbody>\n",
       "</table>\n",
       "</div>"
      ],
      "text/plain": [
       "            ds      trend  yhat_lower  yhat_upper  trend_lower  trend_upper  \\\n",
       "99  2023-04-01  84.850794   79.517843  100.293101    84.850748    84.850836   \n",
       "100 2023-05-01  84.926789   68.383765   90.854213    84.926734    84.926841   \n",
       "101 2023-06-01  85.005318   72.428221   94.751601    85.005253    85.005376   \n",
       "102 2023-07-01  85.081313   86.803187  109.286605    85.081238    85.081380   \n",
       "103 2023-08-01  85.159841   76.974541   99.123640    85.159755    85.159917   \n",
       "\n",
       "     additive_terms  additive_terms_lower  additive_terms_upper     yearly  \\\n",
       "99         5.104840              5.104840              5.104840   5.104840   \n",
       "100       -4.918875             -4.918875             -4.918875  -4.918875   \n",
       "101       -0.573564             -0.573564             -0.573564  -0.573564   \n",
       "102       13.141042             13.141042             13.141042  13.141042   \n",
       "103        2.177673              2.177673              2.177673   2.177673   \n",
       "\n",
       "     yearly_lower  yearly_upper  multiplicative_terms  \\\n",
       "99       5.104840      5.104840                   0.0   \n",
       "100     -4.918875     -4.918875                   0.0   \n",
       "101     -0.573564     -0.573564                   0.0   \n",
       "102     13.141042     13.141042                   0.0   \n",
       "103      2.177673      2.177673                   0.0   \n",
       "\n",
       "     multiplicative_terms_lower  multiplicative_terms_upper       yhat  \n",
       "99                          0.0                         0.0  89.955634  \n",
       "100                         0.0                         0.0  80.007914  \n",
       "101                         0.0                         0.0  84.431754  \n",
       "102                         0.0                         0.0  98.222354  \n",
       "103                         0.0                         0.0  87.337515  "
      ]
     },
     "execution_count": 38,
     "metadata": {},
     "output_type": "execute_result"
    }
   ],
   "source": [
    "forecast.tail()"
   ]
  },
  {
   "cell_type": "code",
   "execution_count": 127,
   "id": "a1a76c01",
   "metadata": {},
   "outputs": [
    {
     "data": {
      "image/png": "[encoded data removed]",
      "text/plain": [
       "<Figure size 1440x576 with 1 Axes>"
      ]
     },
     "metadata": {
      "needs_background": "light"
     },
     "output_type": "display_data"
    }
   ],
   "source": [
    "ax = ts.plot(x = 'ds',y = 'y',figsize = (20,8),color = '#e41a1c')\n",
    "ax.patch.set_facecolor('#FFDAB9')\n",
    "forecast.iloc[92:].plot(x = 'ds', y  ='yhat',ax = ax,color = '#377eb8')\n",
    "plt.fill_between(forecast['ds'].iloc[92:].values,forecast.iloc[92:]['yhat_lower'],forecast.iloc[92:]['yhat_upper'],alpha = 0.3)\n",
    "plt.xlabel('Datetime',fontsize = 20)\n",
    "plt.xticks(fontsize=15)\n",
    "plt.yticks(fontsize=15)\n",
    "plt.grid(alpha = 0.7)\n",
    "plt.title('Forecasting the number of crimes per month', fontsize = 30)\n",
    "plt.legend(labels = ['Past','Forecast'],fontsize = 13);"
   ]
  },
  {
   "cell_type": "markdown",
   "id": "bcb5e6d7",
   "metadata": {},
   "source": [
    " - 여태까지의 범죄가 줄어들거나 많아지지 않고 불규칙적으로 변화하여   \n",
    " 앞으로 12개월의 범죄도 불규칙적으로 발생할 확률이크고 그래프에서 예측한 그래프의 범위는  \n",
    " 신뢰구간이다."
   ]
  }
 ],
 "metadata": {
  "kernelspec": {
   "display_name": "Python 3 (ipykernel)",
   "language": "python",
   "name": "python3"
  },
  "language_info": {
   "codemirror_mode": {
    "name": "ipython",
    "version": 3
   },
   "file_extension": ".py",
   "mimetype": "text/x-python",
   "name": "python",
   "nbconvert_exporter": "python",
   "pygments_lexer": "ipython3",
   "version": "3.9.12"
  }
 },
 "nbformat": 4,
 "nbformat_minor": 5
}
